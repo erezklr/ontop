{
  "nbformat": 4,
  "nbformat_minor": 0,
  "metadata": {
    "colab": {
      "provenance": [],
      "include_colab_link": true
    },
    "kernelspec": {
      "name": "python3",
      "display_name": "Python 3"
    }
  },
  "cells": [
    {
      "cell_type": "markdown",
      "metadata": {
        "id": "view-in-github",
        "colab_type": "text"
      },
      "source": [
        "<a href=\"https://colab.research.google.com/github/erezklr/ontop/blob/main/if_ex.ipynb\" target=\"_parent\"><img src=\"https://colab.research.google.com/assets/colab-badge.svg\" alt=\"Open In Colab\"/></a>"
      ]
    },
    {
      "cell_type": "markdown",
      "metadata": {
        "id": "jl7544x1jGSI"
      },
      "source": [
        "<div dir=\"rtl\">\n",
        "<H1><b>שיעור 3.1 - תנאים - \"אם\"</b></H1>\n",
        "<H3>\n",
        "<b>יש להגיש את סעיפים 1-7</b>,\n",
        "ניתן להעזר ב<a href=\"https://docs.google.com/presentation/d/1LWB73W906S4WQSQBqIL3S2sp-cJorKZaS4qzK4WfQ30/edit?usp=sharing\">מצגת השיעור </a>\n",
        "<br>\n",
        "תזכורת: שמרו עותק של מחברת התרגול (<b>copy to drive</b>) ופתרו אותה\n",
        "</H3>"
      ]
    },
    {
      "cell_type": "code",
      "metadata": {
        "id": "VF0sKuBDi9SB",
        "cellView": "form"
      },
      "source": [
        "#@title הריצו אותי קודם\n",
        "#@markdown\n",
        "#########################################################\n",
        "def input_number(msg):\n",
        "  return int(input(msg))\n",
        "#########################################################"
      ],
      "execution_count": null,
      "outputs": []
    },
    {
      "cell_type": "markdown",
      "metadata": {
        "id": "ObA7jGSJz-Sf"
      },
      "source": [
        "<div dir=\"rtl\">\n",
        "<H3><b><font color=\"MediumBlue\">1. הריצו את קטע הקוד הבא עם גילאים שונים, וענו על השאלה שאחריו</b></H3>\n",
        "</div>"
      ]
    },
    {
      "cell_type": "code",
      "metadata": {
        "id": "EvpnaLUBz-9e",
        "colab": {
          "base_uri": "https://localhost:8080/"
        },
        "outputId": "80985f07-b35b-4e53-dd33-bc223141bbd1"
      },
      "source": [
        "# קליטת הגיל\n",
        "age = input_number(\"Enter your age: \")\n",
        "\n",
        "# בדיקת הגיל\n",
        "if age > 12:\n",
        "  print(\"Welcome to OnTop!\")\n",
        "  print(\"Eize Kef!\")\n",
        "\n",
        "print(\"ביי\")"
      ],
      "execution_count": null,
      "outputs": [
        {
          "output_type": "stream",
          "name": "stdout",
          "text": [
            "Enter your age: 12\n",
            "ביי\n"
          ]
        }
      ]
    },
    {
      "cell_type": "markdown",
      "metadata": {
        "id": "MMV8AdE-4Mo6"
      },
      "source": [
        "<div dir=\"rtl\">\n",
        "<center>\n",
        "<img src=\"https://drive.google.com/uc?id=1ICNFE_gDLvAtYD6oB2Ublx87t1Stcm2y\"/>\n",
        "<br>\n",
        "<b>\n",
        "<font size=4>\n",
        "שאלה: מה יודפס עבור קלט 12?\n",
        "</b>\n",
        "</center>\n",
        "</div>"
      ]
    },
    {
      "cell_type": "code",
      "source": [
        "# @title   { display-mode: \"form\" }\n",
        "#@markdown ### בחרו את התשובה המתאימה והריצו לבדיקה\n",
        "my_answer = \"ביי\" # @param [\"\\u05DC\\u05D7\\u05E6\\u05D5 \\u05DC\\u05D1\\u05D7\\u05D9\\u05E8\\u05D4\", \"\\u05DC\\u05D0 \\u05D9\\u05D5\\u05D3\\u05E4\\u05E1 \\u05DB\\u05DC\\u05D5\\u05DD\", \"Welcome to OnTop! Eize Kef! \\u05D1\\u05D9\\u05D9\", \"\\u05D1\\u05D9\\u05D9\", \"Welcome to OnTop! Eize Kef!\"]\n",
        "\n",
        "from IPython.display import Image, display\n",
        "\n",
        "answer = \"ביי\"\n",
        "default = \"לחצו לבחירה\"\n",
        "\n",
        "if my_answer == default:\n",
        "  print(\"שכחתם לבחור תשובה, נסו שוב\")\n",
        "elif my_answer == answer:\n",
        "  print(\"!מעולה, המשיכו הלאה\")\n",
        "  display(Image(url='https://media.tenor.com/images/08abdb0cc31bd78e12bf48d2152a297f/tenor.gif'))\n",
        "else:\n",
        "  print(\"תשובה לא נכונה, נסו שוב\")\n",
        "  display(Image(url='https://media.tenor.com/images/bf292814df5739e328d067b87702d3a2/tenor.gif'))\n"
      ],
      "metadata": {
        "colab": {
          "base_uri": "https://localhost:8080/",
          "height": 168
        },
        "id": "2WuzIgF4JCqu",
        "outputId": "552d053f-09cc-44f5-d8b0-f85aa9fc6ca5"
      },
      "execution_count": null,
      "outputs": [
        {
          "output_type": "stream",
          "name": "stdout",
          "text": [
            "!מעולה, המשיכו הלאה\n"
          ]
        },
        {
          "output_type": "display_data",
          "data": {
            "text/html": [
              "<img src=\"https://media.tenor.com/images/08abdb0cc31bd78e12bf48d2152a297f/tenor.gif\"/>"
            ],
            "text/plain": [
              "<IPython.core.display.Image object>"
            ]
          },
          "metadata": {}
        }
      ]
    },
    {
      "cell_type": "markdown",
      "source": [
        "<div dir=\"rtl\">\n",
        "<center>\n",
        "<img src=\"https://drive.google.com/uc?id=1IG3k8Bk4jB3-kK0cz-uAD9MSmwZFxsuW\"/>\n",
        "</center>\n",
        "</div>"
      ],
      "metadata": {
        "id": "Mr1SV56a4MpE"
      }
    },
    {
      "cell_type": "markdown",
      "source": [
        "<div dir=\"rtl\">\n",
        "<H4><b><font color=\"DodgerBlue\">\n",
        "<img width=\"55px\" src=\"https://drive.google.com/uc?id=13nholXm9wSSqDde5pZABj0yERsoFPKmK\"/>\n",
        "פינת הבחירה שלי\n",
        "</b></font></H4>\n",
        "<H3><b><font color=\"MediumBlue\">2. נרצה להוסיף עוד הדפסה רק לגילאים גדולים מ-12.\n",
        "<br>\n",
        "היכן נוסיף פקודת print?\n",
        "<br>\n",
        "חישבו והוסיפו.</b></H3>\n",
        "\n",
        "הריצו ובידקו את עצמכם עם גילאים שונים\n",
        "</div>"
      ],
      "metadata": {
        "id": "5eeOJ7ONxcjV"
      }
    },
    {
      "cell_type": "code",
      "metadata": {
        "id": "HVVwNVIAkZc_",
        "colab": {
          "base_uri": "https://localhost:8080/"
        },
        "outputId": "a58c20ec-bcb1-4c6e-9795-53bb32bb5f2a"
      },
      "source": [
        "# קליטת הגיל\n",
        "age = input_number(\"Enter your age: \")\n",
        "\n",
        "# בדיקת הגיל\n",
        "if age > 12:\n",
        "  print(\"Welcome to OnTop!\")\n",
        "  print(\"Eize Kef\")\n",
        "  print(\"Good luck!\")\n",
        "\n",
        "print(\"Bye\")"
      ],
      "execution_count": null,
      "outputs": [
        {
          "output_type": "stream",
          "name": "stdout",
          "text": [
            "Enter your age: 14\n",
            "Welcome to OnTop!\n",
            "Eize Kef\n",
            "Good luck!\n",
            "Bye\n"
          ]
        }
      ]
    },
    {
      "cell_type": "markdown",
      "source": [
        "<div dir=\"rtl\">\n",
        "<H3><font color=\"MediumBlue\"><b>3. עדכנו את קטע הקוד הבא כך שיאשר כניסה לאונטופ למי שגדול מגיל 11</b></H3>\n",
        "\n",
        "הריצו ובידקו את עצמכם\n",
        "</div>"
      ],
      "metadata": {
        "id": "d3m1M1FAkkWg"
      }
    },
    {
      "cell_type": "code",
      "metadata": {
        "id": "oCurLEOTkkWh",
        "colab": {
          "base_uri": "https://localhost:8080/"
        },
        "outputId": "5ee83176-8a31-4e7c-f8de-1b5c121c78e1"
      },
      "source": [
        "# קליטת הגיל\n",
        "age = input_number(\"Enter your age: \")\n",
        "\n",
        "# בדיקת הגיל\n",
        "if age > 11:\n",
        "  print(\"Welcome to OnTop!\")\n",
        "  print(\"Eize Kef\")\n",
        "\n",
        "print(\"Bye\")"
      ],
      "execution_count": null,
      "outputs": [
        {
          "output_type": "stream",
          "name": "stdout",
          "text": [
            "Enter your age: 12\n",
            "Welcome to OnTop!\n",
            "Eize Kef\n",
            "Bye\n"
          ]
        }
      ]
    },
    {
      "cell_type": "markdown",
      "source": [
        "<div dir=\"rtl\">\n",
        "<H3><font color=\"MediumBlue\"><b>4. כתבו קטע קוד חדש הקולט גיל, ואם הוא קטן מ-11, מודיע שניתן להכנס לסרט רק בליווי מבוגר.\n",
        "<br>\n",
        "</b></H3>\n",
        "\n",
        "הריצו ובידקו את עצמכם עם גילאים שונים, לדוגמה 9, 11, 15</div>"
      ],
      "metadata": {
        "id": "nRvXE69bkxlX"
      }
    },
    {
      "cell_type": "code",
      "metadata": {
        "id": "CJPsWc5VkxlY",
        "colab": {
          "base_uri": "https://localhost:8080/"
        },
        "outputId": "0268eb08-08e1-4293-be25-99876f1e0651"
      },
      "source": [
        "# קליטת הגיל\n",
        "age = input_number(\"Enter your age: \")\n",
        "print(\"Your age is\", age)\n",
        "\n",
        "# בדיקת הגיל\n",
        "if age < 11:\n",
        "  print(\"אין כניסה לסרט ללא ליווי\")\n",
        "\n",
        "print(\"Bye\")"
      ],
      "execution_count": null,
      "outputs": [
        {
          "output_type": "stream",
          "name": "stdout",
          "text": [
            "Enter your age: 10\n",
            "Your age is 10\n",
            "אין כניסה לסרט ללא ליווי\n",
            "Bye\n"
          ]
        }
      ]
    },
    {
      "cell_type": "markdown",
      "source": [
        "<div dir=\"rtl\">\n",
        "<H4><b><font color=\"DodgerBlue\">\n",
        "<img width=\"55px\" src=\"https://drive.google.com/uc?id=13nholXm9wSSqDde5pZABj0yERsoFPKmK\"/>\n",
        "פינת הבחירה שלי\n",
        "</b></font></H4>\n",
        "<H3><font color=\"MediumBlue\"><b>5. כתבו קטע קוד חדש, הקולט גובה ומאשר כניסה למתקן בלונה פארק למי שגבוה מגובה מסוים.\n",
        "<br>\n",
        "בחרו מתקן, וגובה מתאים למתקן זה.\n",
        "<br></font>\n",
        "<font color=\"Red\">\n",
        "חשוב! יש לקלוט כאן את הגובה בסנטימטרים, למשל עבור 1.30 מ' יש לקלוט 130\n",
        "</b></font></H3>\n",
        "<H5>\n",
        "זקוקים לעזרה?\n",
        "<br>\n",
        "<font color=\"Grey\">\n",
        "1. קלטו את הגובה בסנטימטרים\n",
        "<br>\n",
        "2. כתבו תנאי (if) הבודק את הגובה, ואם הוא מתאים מדפיס שניתן להכנס למתקן\n",
        "<br>\n",
        "בדקו את התכנית שלכם על גבהים שונים, האם היא נותנת את ההודעה הרצויה?\n",
        "</div>"
      ],
      "metadata": {
        "id": "5UAwmJYXm1te"
      }
    },
    {
      "cell_type": "code",
      "metadata": {
        "id": "QuTahQd6m1to",
        "colab": {
          "base_uri": "https://localhost:8080/"
        },
        "outputId": "dff38a41-d664-4cfb-b6cc-62beb5b43a31"
      },
      "source": [
        "# קליטת הגובה בסנטימטרים\n",
        "height = input_number(\"Enter your height (in centimeters): \")\n",
        "\n",
        "# המשיכו כאן\n",
        "\n",
        "# בדיקת הגובה\n",
        "if height > 140:\n",
        "  print(\"מותר לך לעלות על האנקונדה לבד!!!!\")\n",
        "\n",
        "print(\"Bye\")"
      ],
      "execution_count": null,
      "outputs": [
        {
          "output_type": "stream",
          "name": "stdout",
          "text": [
            "Enter your height (in centimeters): 145\n",
            "מותר לך לעלות על האנקונדה לבד!!!!\n",
            "Bye\n"
          ]
        }
      ]
    },
    {
      "cell_type": "markdown",
      "source": [
        "<div dir=\"rtl\">\n",
        "<H3><font color=\"MediumBlue\"><b>6. כתבו קטע קוד חדש, הקולט שני מספרים\n",
        "(number1, number2)\n",
        "ומחשב את הסכום שלהם\n",
        "(sum).\n",
        "<br>\n",
        "אם הסכום גדול מ-1000, נדפיס הודעה שהסכום ממש גבוה.\n",
        "<br>\n",
        "<u><b>בכל מקרה</b></u>\n",
        "נדפיס את הסכום.\n",
        "</b></H3>\n",
        "\n",
        "הריצו ובידקו את התוכנית שלכם עם מספרים שונים.\n",
        "תזכורת - זה התכנון שעשינו בכיתה:\n",
        "<br>\n",
        "<img width=\"600px\" src=\"https://data.cyber.org.il/OnTopTech/colab_assets/OnTop_Plan_If.png\"/>\n",
        "</div>"
      ],
      "metadata": {
        "id": "eIDH6iDunhk6"
      }
    },
    {
      "cell_type": "code",
      "metadata": {
        "id": "3J9ftafEnhlF",
        "colab": {
          "base_uri": "https://localhost:8080/"
        },
        "outputId": "5d2b9b77-1b1e-4660-b0c2-17d898e853d6"
      },
      "source": [
        "# קליטת שני מספרים\n",
        "number1 = input_number(\"Enter first number: \")\n",
        "number2 = input_number(\"Enter second number: \")\n",
        "\n",
        "# חישוב הסכום\n",
        "sum = number1 + number2\n",
        "\n",
        "# בדיקת הסכום\n",
        "if sum > 1000:\n",
        "  print(\"הסכום ממש גבוה\")\n",
        "\n",
        "# הדפסת הסכום בכל מקרה\n",
        "print(sum)"
      ],
      "execution_count": null,
      "outputs": [
        {
          "output_type": "stream",
          "name": "stdout",
          "text": [
            "Enter first number: 900\n",
            "Enter second number: 101\n",
            "הסכום ממש גבוה\n",
            "1001\n"
          ]
        }
      ]
    },
    {
      "cell_type": "markdown",
      "source": [
        "<div dir=\"rtl\">\n",
        "<H3><font color=\"MediumBlue\"><b>7. כתבו קטע קוד חדש, הקולט שני מספרים. <br>\n",
        "אם הסכום שלהם גדול מ-1000, אז נדפיס את הסכום.<br>\n",
        "אם הסכום שלהם קטן מ-10, אז נדפיס את המכפלה שלהם.<br>\n",
        "בכל מקרה נדפיס בסוף bye  \n",
        "</b></H3>\n",
        "\n",
        "הריצו ובידקו את עצמכם\n",
        "</div>"
      ],
      "metadata": {
        "id": "G81ECj7Qonny"
      }
    },
    {
      "cell_type": "code",
      "metadata": {
        "id": "RjjPrZYIonny",
        "colab": {
          "base_uri": "https://localhost:8080/"
        },
        "outputId": "ad6a72cc-ce01-4113-e443-2c8d1f3c4a9c"
      },
      "source": [
        "# קליטת שני מספרים\n",
        "number1 = input_number(\"Enter first number: \")\n",
        "number2 = input_number(\"Enter second number: \")\n",
        "\n",
        "# חישוב הסכום\n",
        "sum = number1 + number2\n",
        "\n",
        "# בדיקת הסכום\n",
        "if sum > 1000:\n",
        "  print(sum)\n",
        "\n",
        "if sum < 10:\n",
        "  print(number1 * number2)\n",
        "\n",
        "print(\"bye\")"
      ],
      "execution_count": null,
      "outputs": [
        {
          "output_type": "stream",
          "name": "stdout",
          "text": [
            "Enter first number: 5\n",
            "Enter second number: 4\n",
            "20\n",
            "bye\n"
          ]
        }
      ]
    },
    {
      "cell_type": "markdown",
      "source": [
        "<br><br>\n",
        "\n",
        "---\n",
        "\n"
      ],
      "metadata": {
        "id": "0yCp3FRd8BxT"
      }
    },
    {
      "cell_type": "code",
      "source": [
        "# @title  { display-mode: \"form\" }\n",
        "#@title  { display-mode: \"form\" }\n",
        "#@markdown 👈 סיימת את הסעיפים להגשה! <b> כדאי להריץ אותי </b> <br>\n",
        "run_me(0)"
      ],
      "metadata": {
        "id": "ewL1SmH-QJ2w",
        "colab": {
          "base_uri": "https://localhost:8080/",
          "height": 172
        },
        "outputId": "6160b6cf-94d7-4299-dd27-846e9cec6f6e"
      },
      "execution_count": null,
      "outputs": [
        {
          "output_type": "display_data",
          "data": {
            "text/plain": [
              "<IPython.core.display.HTML object>"
            ],
            "text/html": [
              "\n",
              "  <svg width=\"970\"  style=\"background-color:aliceblue\">\n",
              "   <image href=https://data.cyber.org.il/OnTop/GifBanner/colab_celebrate_2.gif />\n",
              "   <defs>\n",
              "    <filter id=\"f3\" x=\"0\" y=\"0\" width=\"100%\" height=\"100%\">\n",
              "      <feOffset result=\"offOut\" in=\"SourceAlpha\" dx=\"0\" dy=\"0\" />\n",
              "      <feGaussianBlur result=\"blurOut\" in=\"offOut\" stdDeviation=\"10\" />\n",
              "      <feBlend in=\"SourceGraphic\" in2=\"blurOut\" mode=\"normal\" />\n",
              "    </filter>\n",
              "  </defs>\n",
              "   <text x=\"50%\" y=\"80\" dominant-baseline=\"middle\" text-anchor=\"middle\" font-size=\"30\" fill=\"#1F33BE\" font-weight=\"bold\" filter=\"url(#f3)\">כל הכבוד!! מומלץ להמשיך לסעיפי הרשות</text>\n",
              "   <text x=\"50%\" y=\"45\" dominant-baseline=\"middle\" text-anchor=\"middle\" font-size =\"20\" fill=\"#1F33BE\"  filter=\"url(#f3)\">9.5.2024</text>\n",
              " </svg>\n"
            ]
          },
          "metadata": {}
        }
      ]
    },
    {
      "cell_type": "markdown",
      "source": [
        "<br>\n",
        "\n",
        "---\n",
        "\n"
      ],
      "metadata": {
        "id": "Slfrb3Ga8KYY"
      }
    },
    {
      "cell_type": "markdown",
      "source": [
        "<div dir=\"rtl\">\n",
        "<H3><b><font color=\"MediumBlue\">8. הריצו את קטע הקוד הבא וענו על השאלה שאחריו</b></H3>\n",
        "</div>"
      ],
      "metadata": {
        "id": "ykMtFwSt9Mpc"
      }
    },
    {
      "cell_type": "code",
      "metadata": {
        "id": "CW2Vi6lX9Mpl",
        "colab": {
          "base_uri": "https://localhost:8080/",
          "height": 370
        },
        "outputId": "7badae03-d75e-4ce3-b1f4-0fd1823983d0"
      },
      "source": [
        "# שורה זו מאפשרת לשלב גיפים בהמשך הקוד\n",
        "from IPython.display import Image, display\n",
        "\n",
        "# קליטת התשובה\n",
        "answer = input(\" רוצים בדיחה? ענו כן/לא\")\n",
        "if answer == \"כן\":\n",
        "  print(\":איש אחד ביקש מחברו המתכנת ללכת לעשות קניות בסופר. הוא ביקש\")\n",
        "  print(\"'קנה כיכר לחם, ואם יש ביצים אז קנה 6'\")\n",
        "  print(\":לאחר כשעה החבר חוזר עם 6 כיכרות לחם ומסביר\")\n",
        "  print(\"'היו ביצים'\")\n",
        "print(\"ביי\")\n",
        "\n",
        "# שורה זו מציגה גיף ואפשר לשלב אותה איפה שתרצו וגם להחליף נתיב\n",
        "display(Image(url='https://media1.tenor.com/m/xjvmoEYtjwEAAAAC/thumbs-up-double-thumbs-up.gif'))"
      ],
      "execution_count": null,
      "outputs": [
        {
          "output_type": "stream",
          "name": "stdout",
          "text": [
            " רוצים בדיחה? ענו כן/לאלא\n",
            "ביי\n"
          ]
        },
        {
          "output_type": "display_data",
          "data": {
            "text/html": [
              "<img src=\"https://media1.tenor.com/m/xjvmoEYtjwEAAAAC/thumbs-up-double-thumbs-up.gif\"/>"
            ],
            "text/plain": [
              "<IPython.core.display.Image object>"
            ]
          },
          "metadata": {}
        }
      ]
    },
    {
      "cell_type": "markdown",
      "metadata": {
        "id": "YCMxtIUIDWzY"
      },
      "source": [
        "<div dir=\"rtl\">\n",
        "<center>\n",
        "<img src=\"https://drive.google.com/uc?id=1ICNFE_gDLvAtYD6oB2Ublx87t1Stcm2y\"/>\n",
        "<br>\n",
        "<b>\n",
        "<font size=4>\n",
        "שאלה: מה יודפס אם נענה \"לא\"?\n",
        "</b>\n",
        "</center>\n",
        "</div>"
      ]
    },
    {
      "cell_type": "code",
      "source": [
        "# @title  { display-mode: \"form\" }\n",
        "# @title   { display-mode: \"form\" }\n",
        "#@markdown ### בחרו את התשובה המתאימה והריצו\n",
        "my_answer = \"יודפס - ביי, ואז יוצג גיף\" # @param [\"\\u05DC\\u05D7\\u05E6\\u05D5 \\u05DC\\u05D1\\u05D7\\u05D9\\u05E8\\u05D4\", \"\\u05DC\\u05D0 \\u05D9\\u05D5\\u05D3\\u05E4\\u05E1 \\u05DB\\u05DC\\u05D5\\u05DD\", \"\\u05EA\\u05D5\\u05D3\\u05E4\\u05E1 \\u05D4\\u05D1\\u05D3\\u05D9\\u05D7\\u05D4, \\u05D5\\u05D0\\u05D6 - \\u05D1\\u05D9\\u05D9, \\u05D5\\u05D0\\u05D6 \\u05D9\\u05D5\\u05E6\\u05D2 \\u05D2\\u05D9\\u05E3\", \"\\u05D9\\u05D5\\u05D3\\u05E4\\u05E1 - \\u05D1\\u05D9\\u05D9, \\u05D5\\u05D0\\u05D6 \\u05D9\\u05D5\\u05E6\\u05D2 \\u05D2\\u05D9\\u05E3\", \"\\u05EA\\u05D5\\u05D3\\u05E4\\u05E1 \\u05D4\\u05D1\\u05D3\\u05D9\\u05D7\\u05D4\"]\n",
        "\n",
        "from IPython.display import Image, display\n",
        "\n",
        "answer = \"יודפס - ביי, ואז יוצג גיף\"\n",
        "default = \"לחצו לבחירה\"\n",
        "\n",
        "if my_answer == default:\n",
        "  print(\"שכחתם לבחור תשובה, נסו שוב\")\n",
        "elif my_answer == answer:\n",
        "  print(\"!מעולה, המשיכו הלאה\")\n",
        "  display(Image(url='https://media.tenor.com/images/08abdb0cc31bd78e12bf48d2152a297f/tenor.gif'))\n",
        "else:\n",
        "  print(\"תשובה לא נכונה, נסו שוב\")\n",
        "  display(Image(url='https://media.tenor.com/images/bf292814df5739e328d067b87702d3a2/tenor.gif'))\n"
      ],
      "metadata": {
        "id": "3uKNzoEYDWzY",
        "colab": {
          "base_uri": "https://localhost:8080/",
          "height": 168
        },
        "outputId": "147dc60c-6e62-4172-a760-f0142fc32e74"
      },
      "execution_count": null,
      "outputs": [
        {
          "output_type": "stream",
          "name": "stdout",
          "text": [
            "!מעולה, המשיכו הלאה\n"
          ]
        },
        {
          "output_type": "display_data",
          "data": {
            "text/html": [
              "<img src=\"https://media.tenor.com/images/08abdb0cc31bd78e12bf48d2152a297f/tenor.gif\"/>"
            ],
            "text/plain": [
              "<IPython.core.display.Image object>"
            ]
          },
          "metadata": {}
        }
      ]
    },
    {
      "cell_type": "markdown",
      "source": [
        "<div dir=\"rtl\">\n",
        "<center>\n",
        "<img src=\"https://drive.google.com/uc?id=1IG3k8Bk4jB3-kK0cz-uAD9MSmwZFxsuW\"/>\n",
        "</center>\n",
        "</div>"
      ],
      "metadata": {
        "id": "fbvUKSjzDWzY"
      }
    },
    {
      "cell_type": "markdown",
      "source": [
        "<div dir=\"rtl\">\n",
        "<H3><font color=\"MediumBlue\"><b>9. עדכנו את קטע הקוד הבא כך שיציג את הגיף רק אם ביקשו לשמוע בדיחה</b></H3>\n",
        "\n",
        "הריצו ובידקו את עצמכם\n",
        "</div>"
      ],
      "metadata": {
        "id": "kc0OWcXmIXhp"
      }
    },
    {
      "cell_type": "code",
      "source": [
        "# שורה זו מאפשרת לשלב גיפים בהמשך הקוד\n",
        "from IPython.display import Image, display\n",
        "\n",
        "# קליטת התשובה\n",
        "answer = input(\" רוצים בדיחה? ענו כן/לא\")\n",
        "if answer == \"כן\":\n",
        "  print(\":איש אחד ביקש מחברו המתכנת ללכת לעשות קניות בסופר. הוא ביקש\")\n",
        "  print(\"'קנה כיכר לחם, ואם יש ביצים אז קנה 6'\")\n",
        "  print(\":לאחר כשעה החבר חוזר עם 6 כיכרות לחם ומסביר\")\n",
        "  print(\"'היו ביצים'\")\n",
        "  # שורה זו מציגה גיף ואפשר לשלב אותה איפה שתרצו וגם להחליף נתיב\n",
        "  display(Image(url='https://media1.tenor.com/m/xjvmoEYtjwEAAAAC/thumbs-up-double-thumbs-up.gif'))\n",
        "print(\"ביי\")"
      ],
      "metadata": {
        "id": "4Bp_z04gIW1F",
        "colab": {
          "base_uri": "https://localhost:8080/",
          "height": 440
        },
        "outputId": "41939ccb-f58d-463a-b52c-f757ef2b4ad8"
      },
      "execution_count": null,
      "outputs": [
        {
          "output_type": "stream",
          "name": "stdout",
          "text": [
            " רוצים בדיחה? ענו כן/לאכן\n",
            ":איש אחד ביקש מחברו המתכנת ללכת לעשות קניות בסופר. הוא ביקש\n",
            "\"קנה כיכר לחם, ואם יש ביצים אז קנה 6\"\n",
            ":לאחר כשעה החבר חוזר עם 6 כיכרות לחם ומסביר\n",
            "\"היו ביצים\"\n"
          ]
        },
        {
          "output_type": "display_data",
          "data": {
            "text/html": [
              "<img src=\"https://media1.tenor.com/m/xjvmoEYtjwEAAAAC/thumbs-up-double-thumbs-up.gif\"/>"
            ],
            "text/plain": [
              "<IPython.core.display.Image object>"
            ]
          },
          "metadata": {}
        },
        {
          "output_type": "stream",
          "name": "stdout",
          "text": [
            "ביי\n"
          ]
        }
      ]
    },
    {
      "cell_type": "markdown",
      "source": [
        "<div dir=\"rtl\">\n",
        "<H3><font color=\"MediumBlue\"><b>10. כתבו קטע קוד חדש, הקולט שם. <br>\n",
        "אם השם זהה לשם שלך, הדפיסו הודעה שמחה.\n",
        "</b></H3>\n",
        "\n",
        "הריצו ובידקו את עצמכם\n",
        "<br>\n",
        "שימו לב: אפשר להשוות מחרוזות באמצעות אופרטור == (פעמיים שווה)\n",
        "כמו בסעיפים הקודמים (סעיפים 8-9)\n",
        "</div>"
      ],
      "metadata": {
        "id": "T6uOISn88My5"
      }
    },
    {
      "cell_type": "code",
      "metadata": {
        "id": "mpEdzXCa8My6",
        "colab": {
          "base_uri": "https://localhost:8080/"
        },
        "outputId": "6b418cc8-f6c7-4ca5-82e1-9c3171e425ff"
      },
      "source": [
        "# קליטת השם\n",
        "name = input(\"Enter your name: \")\n",
        "\n",
        "# המשיכו כאן\n",
        "\n",
        "# בדיקת השם\n",
        "if name == \"Doron\":\n",
        "  print(\"GREAT!!!\")"
      ],
      "execution_count": null,
      "outputs": [
        {
          "output_type": "stream",
          "name": "stdout",
          "text": [
            "Enter your name: Doron\n",
            "GREAT!!!\n"
          ]
        }
      ]
    },
    {
      "cell_type": "markdown",
      "source": [
        "<div dir=\"rtl\">\n",
        "<H3><font color=\"MediumBlue\"><b>11. בונוס: כתבו תוכנית הקולטת מספר.\n",
        "<br>\n",
        "אם המספר זוגי, הדפיסו את תוצאת החילוק שלו ב-2.\n",
        "<br>\n",
        "בנוסף,\n",
        "אם המספר מתחלק ב-3 ללא שארית, הדפיסו את תוצאת החילוק שלו ב-3.\n",
        "</b></H3>\n",
        "\n",
        "הריצו ובידקו את התכנית שלכם על המספרים הבאים: 5, 6, 9, 4\n",
        "<br>\n",
        "עזרה: השתמשו באופרטור מודולו % לבדיקת שארית החילוק\n",
        "</div>"
      ],
      "metadata": {
        "id": "TZVXJB1tEzHB"
      }
    },
    {
      "cell_type": "code",
      "metadata": {
        "id": "ZSmn_yEOEzHC",
        "colab": {
          "base_uri": "https://localhost:8080/"
        },
        "outputId": "54eaedde-d169-483d-819e-4c087b376349"
      },
      "source": [
        "# קליטת מספר\n",
        "number = input_number(\"Enter a number: \")\n",
        "\n",
        "# בדיקת המספר\n",
        "if number % 2 == 0:\n",
        "  print(\"מתחלק ב-2\")\n",
        "  print(number/2)\n",
        "\n",
        "# בדיקת הסכום\n",
        "if number % 3 == 0:\n",
        "  print(\"מתחלק ב-3\")\n",
        "  print(number/3)"
      ],
      "execution_count": null,
      "outputs": [
        {
          "output_type": "stream",
          "name": "stdout",
          "text": [
            "Enter a number: 24\n",
            "מתחלק ב-2\n",
            "12.0\n",
            "מתחלק ב-3\n",
            "8.0\n"
          ]
        }
      ]
    },
    {
      "cell_type": "markdown",
      "source": [
        "<div dir=\"rtl\">\n",
        "<H3><font color=\"MediumBlue\"><b>12. אתגר:\n",
        "כתבו תוכנית שקולטת שני מספרים ובודקת בעזרת\n",
        "<u>תנאי אחד בלבד</u>\n",
        "אם לפחות אחד מהם הוא אפס.\n",
        "<br>\n",
        "התוכנית תדפיס הודעה אם כן.\n",
        "<br>\n",
        "בכל מקרה התוכנית תדפיס את המכפלה ביניהם בסיום.\n",
        "</b></H3>\n",
        "</div>"
      ],
      "metadata": {
        "id": "QBtgidz0bsCS"
      }
    },
    {
      "cell_type": "code",
      "metadata": {
        "id": "dTZvbD5YbsCS",
        "colab": {
          "base_uri": "https://localhost:8080/"
        },
        "outputId": "9f21f5f0-1d7f-495d-e18e-33c70a7c417d"
      },
      "source": [
        "# קליטת שני מספרים\n",
        "number1 = input_number(\"Enter first number: \")\n",
        "number2 = input_number(\"Enter second number: \")\n",
        "\n",
        "# חישוב המכפלה\n",
        "mult = number1 * number2\n",
        "\n",
        "# בדיקת המכפלה\n",
        "if mult == 0:\n",
        "  print(\"לפחות אחד המספרים הוא אפס\")\n",
        "\n",
        "print(mult)"
      ],
      "execution_count": null,
      "outputs": [
        {
          "output_type": "stream",
          "name": "stdout",
          "text": [
            "Enter first number: 1000\n",
            "Enter second number: 0\n",
            "לפחות אחד המספרים הוא אפס\n",
            "0\n"
          ]
        }
      ]
    },
    {
      "cell_type": "markdown",
      "source": [
        "<div dir=\"rtl\">\n",
        "<H3><font color=\"MediumBlue\"><b>\n",
        "סיימנו את המחברת!\n",
        "<br>\n",
        "פיתחנו הרבה תוכניות שבודקות אם דברים מתקיימים... האם אני בגובה המתאים, האם אני בגיל המתאים...\n",
        "<br>\n",
        "ומה אם אני\n",
        "<u>לא</u>?\n",
        "<br>\n",
        "בקרוב נלמד איך נוכל להתייחס גם לזה :)\n",
        "</b></H3>\n",
        "</div>"
      ],
      "metadata": {
        "id": "oPyIqq3gmxiY"
      }
    }
  ]
}